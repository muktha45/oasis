{
 "cells": [
  {
   "cell_type": "code",
   "execution_count": 3,
   "id": "b45cbcf1",
   "metadata": {},
   "outputs": [],
   "source": [
    "import requests\n",
    "import json\n",
    "def get_weather(api_key, location):\n",
    "    base_url = \"https://api.openweathermap.org/data/2.5/weather\"\n",
    "    params = {\n",
    "        \"q\": location,\n",
    "        \"appid\": api_key,\n",
    "        \"units\": \"metric\"\n",
    "    }\n",
    "    try:\n",
    "        response = requests.get(base_url, params=params)\n",
    "        data = response.json()\n",
    "\n",
    "        if data[\"cod\"] == 200:\n",
    "            # Extract weather data\n",
    "            temperature = data[\"main\"][\"temp\"]\n",
    "            humidity = data[\"main\"][\"humidity\"]\n",
    "            weather_condition = data[\"weather\"][0][\"description\"]\n",
    "\n",
    "            # Print weather information\n",
    "            print(f\"Weather in {location}:\")\n",
    "            print(f\"Temperature: {temperature}°C\")\n",
    "            print(f\"Humidity: {humidity}%\")\n",
    "            print(f\"Conditions: {weather_condition}\")\n",
    "        else:\n",
    "            print(f\"Error: {data['message']}\")\n",
    "\n",
    "    except requests.exceptions.RequestException:\n",
    "        print(\"Failed to connect to the weather service\")\n",
    "    except json.JSONDecodeError:\n",
    "        print(\"Failed to parse the weather data\")"
   ]
  },
  {
   "cell_type": "code",
   "execution_count": 4,
   "id": "13cd4ca8",
   "metadata": {},
   "outputs": [
    {
     "name": "stdout",
     "output_type": "stream",
     "text": [
      "Enter a city or ZIP code: shamshabad\n",
      "Weather in shamshabad:\n",
      "Temperature: 22.06°C\n",
      "Humidity: 94%\n",
      "Conditions: light intensity drizzle\n"
     ]
    }
   ],
   "source": [
    "if __name__ == \"__main__\":\n",
    "    api_key = \"c3b3100687e438922607c3e1fe453208\"\n",
    "    location = input(\"Enter a city or ZIP code: \")\n",
    "    get_weather(api_key, location)"
   ]
  },
  {
   "cell_type": "code",
   "execution_count": null,
   "id": "364700ba",
   "metadata": {},
   "outputs": [],
   "source": []
  },
  {
   "cell_type": "code",
   "execution_count": null,
   "id": "8e60e744",
   "metadata": {},
   "outputs": [],
   "source": []
  }
 ],
 "metadata": {
  "kernelspec": {
   "display_name": "Python 3 (ipykernel)",
   "language": "python",
   "name": "python3"
  },
  "language_info": {
   "codemirror_mode": {
    "name": "ipython",
    "version": 3
   },
   "file_extension": ".py",
   "mimetype": "text/x-python",
   "name": "python",
   "nbconvert_exporter": "python",
   "pygments_lexer": "ipython3",
   "version": "3.11.5"
  }
 },
 "nbformat": 4,
 "nbformat_minor": 5
}
