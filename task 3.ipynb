{
 "cells": [
  {
   "cell_type": "code",
   "execution_count": 1,
   "id": "02f26660",
   "metadata": {},
   "outputs": [],
   "source": [
    "import random\n",
    "\n",
    "def password_generator(n):\n",
    "    # defining the list of choices of characters.\n",
    "    characters = \"abcdefghijklmnopqrstuvwxyzABCDEFGHIJKLMNOPQRSTUVWXYZ123456789!@#$%^&*()\"\n",
    "\n",
    "    # initializing an empty string to store the password.\n",
    "    password = \"\"\n",
    "\n",
    "    for i in range(n):\n",
    "        # randomly selecting one character and appending it to the resultant password string\n",
    "        password += random.choice(characters)\n",
    "\n",
    "    # finally returning the randomly generated password.\n",
    "    return password"
   ]
  },
  {
   "cell_type": "code",
   "execution_count": 2,
   "id": "55ade1a3",
   "metadata": {},
   "outputs": [
    {
     "name": "stdout",
     "output_type": "stream",
     "text": [
      "A randomly selected password is: 151O1L9&8j\n"
     ]
    }
   ],
   "source": [
    "if __name__ == \"__main__\":\n",
    "    n = 10\n",
    "    password = password_generator(n)\n",
    "    print(\"A randomly selected password is:\", password)"
   ]
  },
  {
   "cell_type": "code",
   "execution_count": null,
   "id": "2f0dc9f2",
   "metadata": {},
   "outputs": [],
   "source": []
  }
 ],
 "metadata": {
  "kernelspec": {
   "display_name": "Python 3 (ipykernel)",
   "language": "python",
   "name": "python3"
  },
  "language_info": {
   "codemirror_mode": {
    "name": "ipython",
    "version": 3
   },
   "file_extension": ".py",
   "mimetype": "text/x-python",
   "name": "python",
   "nbconvert_exporter": "python",
   "pygments_lexer": "ipython3",
   "version": "3.11.5"
  }
 },
 "nbformat": 4,
 "nbformat_minor": 5
}
