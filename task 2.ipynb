{
 "cells": [
  {
   "cell_type": "code",
   "execution_count": 1,
   "id": "51771226",
   "metadata": {},
   "outputs": [
    {
     "name": "stdout",
     "output_type": "stream",
     "text": [
      "Enter your height in meters: 1.6\n",
      "Enter your Weight in Kg: 54\n",
      "BMI Calculated is:  21.093749999999996\n",
      "You are normal\n"
     ]
    }
   ],
   "source": [
    "def bmi_calculator():\n",
    "    try:\n",
    "        h = float(input(\"Enter your height in meters: \"))\n",
    "        w = float(input(\"Enter your Weight in Kg: \"))\n",
    "        if h > 0 and w > 0:\n",
    "            BMI = w / (h * h)\n",
    "            print(\"BMI Calculated is: \", BMI)\n",
    "\n",
    "            if BMI <= 16:\n",
    "                print(\"You are very underweight\")\n",
    "            elif BMI <= 18.5:\n",
    "                print(\"You are underweight\")\n",
    "            elif BMI <= 25:\n",
    "                print(\"You are normal\")\n",
    "            elif BMI <= 30:\n",
    "                print(\"You are overweight\")\n",
    "            else:\n",
    "                print(\"You are very overweight\")\n",
    "        else:\n",
    "            print(\"Enter valid details\")\n",
    "    except ValueError:\n",
    "        print(\"Please enter valid numeric input.\")\n",
    "\n",
    "bmi_calculator()"
   ]
  },
  {
   "cell_type": "code",
   "execution_count": null,
   "id": "748cf6ff",
   "metadata": {},
   "outputs": [],
   "source": []
  }
 ],
 "metadata": {
  "kernelspec": {
   "display_name": "Python 3 (ipykernel)",
   "language": "python",
   "name": "python3"
  },
  "language_info": {
   "codemirror_mode": {
    "name": "ipython",
    "version": 3
   },
   "file_extension": ".py",
   "mimetype": "text/x-python",
   "name": "python",
   "nbconvert_exporter": "python",
   "pygments_lexer": "ipython3",
   "version": "3.11.5"
  }
 },
 "nbformat": 4,
 "nbformat_minor": 5
}
